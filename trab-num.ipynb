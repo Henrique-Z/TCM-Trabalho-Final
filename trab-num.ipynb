{
 "cells": [
  {
   "cell_type": "code",
   "execution_count": 16,
   "metadata": {},
   "outputs": [],
   "source": [
    "import numpy as np\n",
    "import matplotlib.pyplot as plt"
   ]
  },
  {
   "attachments": {},
   "cell_type": "markdown",
   "metadata": {},
   "source": [
    "***\n",
    "### Código de ref.:"
   ]
  },
  {
   "cell_type": "code",
   "execution_count": 20,
   "metadata": {},
   "outputs": [
    {
     "name": "stdout",
     "output_type": "stream",
     "text": [
      "Temperatura em t = 0:  [0. 0. 0. 0. 0. 0. 0. 0. 0. 0. 1.]\n",
      "Temperatura em t =  0.020000000000000004  :  [0.00000000e+00 3.44064000e-06 5.39361280e-05 5.14398618e-04\n",
      " 3.36162456e-03 1.59930450e-02 5.75386766e-02 1.60952226e-01\n",
      " 3.58655782e-01 6.52967417e-01 1.00000000e+00]\n"
     ]
    }
   ],
   "source": [
    "import numpy as np\n",
    "\n",
    "N = 10       # Numero de intervalos no dominio\n",
    "kfinal = 10  # Numero de passos de tempo\n",
    "L = 1.0      # Tamanho da barra\n",
    "deltax = L/N # delta x\n",
    "\n",
    "# Existe uma restricao para o deltat, dado um deltax. O deltat tem que ser menor\n",
    "# do que deltax ∗ delta x/2. Por isso, vamos definir um deltat que obedeca a essa\n",
    "# restricao. No seu trabalho voce vai ver o que acontece quando essa restricao\n",
    "# nao eh obedecida.\n",
    "\n",
    "deltat = 0.2 * pow(deltax, 2)\n",
    "\n",
    "# Vamos definir o vetor temperatura como sendo formado por zeros, com N + 1 pontos.\n",
    "\n",
    "Temp = np.zeros(N + 1, float)\n",
    "\n",
    "# No entanto, o ponto da extremidade direita, que eh o N, tem valor 1.\n",
    "\n",
    "Temp[N] = 1.0\n",
    "print('Temperatura em t = 0: ', Temp)\n",
    "Tempnova = np.copy(Temp)\n",
    "\n",
    "# Veja que agora os limites dos loops estao em funcao de kfinal e N.\n",
    "\n",
    "for k in range(1, kfinal + 1):\n",
    "    for i in range(1, N):\n",
    "        Tempnova[i] = Temp[i] + ( deltat/(deltax*deltax) ) * (Temp[i+1] - 2.0*Temp[i] + Temp[i-1])\n",
    "        Temp = np.copy(Tempnova)\n",
    "\n",
    "# Vamos escrever apenas o resultado final.\n",
    "\n",
    "print('Temperatura em t = ', k*deltat ,' : ', Temp)"
   ]
  },
  {
   "cell_type": "code",
   "execution_count": 25,
   "metadata": {},
   "outputs": [
    {
     "data": {
      "image/png": "[encoded data removed]",
      "text/plain": [
       "<Figure size 640x480 with 1 Axes>"
      ]
     },
     "metadata": {},
     "output_type": "display_data"
    }
   ],
   "source": [
    "import numpy as np\n",
    "import matplotlib.pyplot as plt\n",
    "\n",
    "N = 10\n",
    "kfinal = 10\n",
    "L = 1.0\n",
    "\n",
    "x = np.linspace(0.0, L, N + 1) # Vetor x , usado para plotar\n",
    "\n",
    "deltax = L/N\n",
    "deltat = 0.2 * deltax * deltax\n",
    "\n",
    "Temp = np.zeros(N + 1, float)\n",
    "Temp[N] = 1.0\n",
    "Tempnova = np.copy(Temp)\n",
    "\n",
    "for k in range(1, kfinal + 1):\n",
    "    for i in range(1, N):\n",
    "        Tempnova[i] = Temp[i] + (deltat/(deltax*deltax) ) * (Temp[i+1] - 2.0*Temp[i] + Temp[i-1])\n",
    "\n",
    "Temp = np.copy(Tempnova)\n",
    "t = k * deltat # Tempo atual, usado no titulo do grafico\n",
    "\n",
    "fig = plt.figure()\n",
    "ax = fig.add_subplot()\n",
    "\n",
    "fig.suptitle('t = %.3f'%t, fontsize = 18, fontweight = 'bold')\n",
    "ax.set_ylabel('$T$', fontsize = 18)\n",
    "ax.set_xlabel('$x$', fontsize = 18)\n",
    "\n",
    "plt.plot(x, Temp, '-r', lw = 4)\n",
    "plt.savefig('figura.pdf', format ='pdf', dpi = 1200, bbox_inches = 'tight')\n",
    "\n",
    "plt.show()"
   ]
  }
 ],
 "metadata": {
  "kernelspec": {
   "display_name": "Python 3",
   "language": "python",
   "name": "python3"
  },
  "language_info": {
   "codemirror_mode": {
    "name": "ipython",
    "version": 3
   },
   "file_extension": ".py",
   "mimetype": "text/x-python",
   "name": "python",
   "nbconvert_exporter": "python",
   "pygments_lexer": "ipython3",
   "version": "3.10.6"
  },
  "orig_nbformat": 4
 },
 "nbformat": 4,
 "nbformat_minor": 2
}
